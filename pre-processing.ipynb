{
 "cells": [
  {
   "cell_type": "markdown",
   "metadata": {},
   "source": [
    "# Imbalanced classes — pre-processing"
   ]
  },
  {
   "cell_type": "markdown",
   "metadata": {},
   "source": [
    "\n",
    "\n",
    "[1]:http://vcmi.inescporto.pt/reproducible_research/ijcnn2016/ClassImbalance/imbalance.pdf"
   ]
  },
  {
   "cell_type": "code",
   "execution_count": 2,
   "metadata": {},
   "outputs": [],
   "source": [
    "from __future__ import division\n",
    "\n",
    "import numpy as np\n",
    "import pandas as pd\n",
    "import matplotlib.pyplot as plt\n",
    "\n",
    "from itertools import combinations\n",
    "from imblearn.datasets import make_imbalance\n",
    "\n",
    "from sklearn.svm import SVC\n",
    "from sklearn.datasets import make_moons\n",
    "from sklearn.model_selection import train_test_split\n",
    "from sklearn.metrics import f1_score, classification_report\n",
    "\n",
    "# Define a function for plotting data.\n",
    "def plot_data(X, y):\n",
    "    plt.scatter(X[y == 0, 0], X[y == 0, 1], alpha=0.5)\n",
    "    plt.scatter(X[y == 1, 0], X[y == 1, 1], alpha=0.5)\n",
    "    plt.show()"
   ]
  },
  {
   "cell_type": "markdown",
   "metadata": {},
   "source": [
    "## Example problem\n",
    "\n",
    "Below (following the example shown in the introduction) an imblanced classification problem is produced using the cresent moon dataset generator from *sklean* and the routines from *imblearn* that take a dataset and make it imbalanced."
   ]
  },
  {
   "cell_type": "code",
   "execution_count": 17,
   "metadata": {},
   "outputs": [
    {
     "data": {
      "image/png": "[encoded data removed]",
      "text/plain": [
       "<matplotlib.figure.Figure at 0x1a191c9f10>"
      ]
     },
     "metadata": {},
     "output_type": "display_data"
    }
   ],
   "source": [
    "# Based on the imbalance_learn package examples\n",
    "X, y = make_moons(n_samples=500, shuffle=True, noise=0.4, random_state=40)\n",
    "X_, y_ = make_imbalance(X, y, ratio=0.15, min_c_=1, random_state=40)\n",
    "\n",
    "plot_data(X_, y_)"
   ]
  },
  {
   "cell_type": "markdown",
   "metadata": {},
   "source": [
    "The data can be split into training and test sets and then a linear support vector machine fitted. F1-score can then be used to look at the efficacy of the model."
   ]
  },
  {
   "cell_type": "code",
   "execution_count": 18,
   "metadata": {},
   "outputs": [
    {
     "name": "stdout",
     "output_type": "stream",
     "text": [
      "             precision    recall  f1-score   support\n",
      "\n",
      "          0       0.91      0.98      0.94        83\n",
      "          1       0.67      0.33      0.44        12\n",
      "\n",
      "avg / total       0.88      0.89      0.88        95\n",
      "\n"
     ]
    }
   ],
   "source": [
    "# Train test split\n",
    "X_train, X_test, y_train, y_test = train_test_split(X_, y_, test_size=0.33, random_state=40, stratify=y_)\n",
    "\n",
    "# Define and fit model\n",
    "model = SVC(random_state=40, probability=True)\n",
    "model.fit(X_train, y_train)\n",
    "\n",
    "# Make predicts\n",
    "y_predict = model.predict(X_test)\n",
    "\n",
    "# Output the precision, recall and f1-score\n",
    "print classification_report(y_true=y_test, y_pred=y_predict)"
   ]
  },
  {
   "cell_type": "markdown",
   "metadata": {},
   "source": [
    "## Meta Cost\n",
    "\n",
    "Domingos introduced MetaCost <sup>[1]</sup>\n",
    "\n",
    "[1]:https://homes.cs.washington.edu/~pedrod/papers/kdd99.pdf"
   ]
  },
  {
   "cell_type": "code",
   "execution_count": 19,
   "metadata": {
    "collapsed": true
   },
   "outputs": [],
   "source": [
    "c01_c10 = (y_==0).sum() / (y_==1).sum()\n",
    "\n",
    "threshold = 1 / (1 + c01_c10)\n",
    "\n",
    "def make_prediction(data, model, threshold):\n",
    "    probs = model.predict_proba(data)\n",
    "    return [1 if prob[1] > threshold else 0 for prob in probs]"
   ]
  },
  {
   "cell_type": "code",
   "execution_count": 20,
   "metadata": {},
   "outputs": [
    {
     "name": "stdout",
     "output_type": "stream",
     "text": [
      "             precision    recall  f1-score   support\n",
      "\n",
      "          0       0.94      0.94      0.94        83\n",
      "          1       0.58      0.58      0.58        12\n",
      "\n",
      "avg / total       0.89      0.89      0.89        95\n",
      "\n"
     ]
    }
   ],
   "source": [
    "y_new = make_prediction(X_train, model, threshold)\n",
    "\n",
    "# Define and fit model\n",
    "model = SVC(random_state=40, probability=True)\n",
    "model.fit(X_train, y_new)\n",
    "\n",
    "# Make predicts\n",
    "y_predict = model.predict(X_test)\n",
    "\n",
    "# Output the precision, recall and f1-score\n",
    "print classification_report(y_true=y_test, y_pred=y_predict)"
   ]
  },
  {
   "cell_type": "code",
   "execution_count": 42,
   "metadata": {},
   "outputs": [
    {
     "name": "stdout",
     "output_type": "stream",
     "text": [
      "6.68\n",
      "1.0\n",
      "1.0\n",
      "1.0\n",
      "1.0\n",
      "1.0\n",
      "1.0\n",
      "1.0\n",
      "1.0\n",
      "1.0\n",
      "1.0\n"
     ]
    }
   ],
   "source": [
    "from imblearn.ensemble import EasyEnsemble\n",
    "\n",
    "ee = EasyEnsemble()\n",
    "\n",
    "X_samp, y_samp = ee.fit_sample(X_train, y_train)\n",
    "\n",
    "models = []\n",
    "\n",
    "print (y_train==0).sum()/(y_train==1).sum()\n",
    "\n",
    "for x in xrange(0,10):\n",
    "    print (y_samp[x]==0).sum()/(y_samp[x]==1).sum()\n",
    "    model = model.fit(X_samp[x], y_samp[x])\n",
    "    models.append(model)\n"
   ]
  },
  {
   "cell_type": "code",
   "execution_count": 72,
   "metadata": {},
   "outputs": [
    {
     "name": "stdout",
     "output_type": "stream",
     "text": [
      "0.146666666667\n",
      "0.146666666667\n",
      "0.146666666667\n",
      "0.146666666667\n",
      "0.146666666667\n",
      "0.146666666667\n",
      "0.146666666667\n",
      "0.146666666667\n",
      "0.146666666667\n",
      "0.146666666667\n"
     ]
    }
   ],
   "source": [
    "from sklearn.model_selection import StratifiedShuffleSplit\n",
    "\n",
    "sss = StratifiedShuffleSplit()\n",
    "\n",
    "models = []\n",
    "for x in sss.split(X_train, y_train):\n",
    "    X_samp = X_train[x[0]]\n",
    "    y_samp = y_train[x[0]]\n",
    "    print (y_samp==1).sum()/(y_samp==0).sum()\n",
    "    model = model.fit(X_samp, y_samp)\n",
    "    "
   ]
  },
  {
   "cell_type": "code",
   "execution_count": null,
   "metadata": {
    "collapsed": true
   },
   "outputs": [],
   "source": []
  },
  {
   "cell_type": "code",
   "execution_count": null,
   "metadata": {
    "collapsed": true
   },
   "outputs": [],
   "source": []
  }
 ],
 "metadata": {
  "kernelspec": {
   "display_name": "Python 2",
   "language": "python",
   "name": "python2"
  },
  "language_info": {
   "codemirror_mode": {
    "name": "ipython",
    "version": 2
   },
   "file_extension": ".py",
   "mimetype": "text/x-python",
   "name": "python",
   "nbconvert_exporter": "python",
   "pygments_lexer": "ipython2",
   "version": "2.7.14"
  }
 },
 "nbformat": 4,
 "nbformat_minor": 2
}
