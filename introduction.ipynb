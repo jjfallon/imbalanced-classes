{
 "cells": [
  {
   "cell_type": "markdown",
   "metadata": {},
   "source": [
    "# Imbalanced classes - introduction"
   ]
  },
  {
   "cell_type": "markdown",
   "metadata": {},
   "source": [
    "In classification you are trying to split data into a number of discrete classes. This works very well if there are equal number of training examples for the different classes but can fall down if one class dominates. In the extreme case when your classifier might always predict the most frequently occuring class. If pure prediction is the goal this can be the correct thing to do, but it could be the case that the infrequent occuring class is more important to you (for example, customers who spend the most might be rarer for a company but more important for the company's business model).\n",
    "\n",
    "As Provost (_Machine Learning from Imbalanced Data Sets 101_)<sup>[1]</sup> describes it,\n",
    ">The assumptions built into (most of) these algorithms are: \n",
    "> 1. that maximizing accuracy is the goal, and \n",
    "> 2. that,  in  use, the  classifier  will  operate  on  data  drawn  from the same distribution as the training data.\n",
    "\n",
    "This second point is important when, for example, the data you use for training is imblanaced but you expect the live system to be running on more balanced data.\n",
    "\n",
    "[1]:http://pages.stern.nyu.edu/~fprovost/Papers/skew.PDF"
   ]
  },
  {
   "cell_type": "markdown",
   "metadata": {},
   "source": [
    "## Terminology\n",
    "\n",
    "On terminology, when you are classifying between two class this is called binomial classification (typically the class are labelled 1 and 0), and if there are more than two classes it is sometimes called multinomial classification and sometimes multiclass classification.\n",
    "\n",
    "For binomial classification, when the class is imbalanced the class appearing less frequently is known as the minority class (typically labelled 1) and the more frequently appearing class is known as the majority class (typically labelled 0). "
   ]
  },
  {
   "cell_type": "markdown",
   "metadata": {},
   "source": [
    "## Basic example"
   ]
  },
  {
   "cell_type": "code",
   "execution_count": 1,
   "metadata": {},
   "outputs": [],
   "source": [
    "from __future__ import division\n",
    "\n",
    "import matplotlib.pyplot as plt\n",
    "\n",
    "from imblearn.datasets import make_imbalance\n",
    "\n",
    "from sklearn.svm import SVC\n",
    "from sklearn.datasets import make_moons\n",
    "from sklearn.model_selection import train_test_split\n",
    "from sklearn.metrics import accuracy_score, classification_report"
   ]
  },
  {
   "cell_type": "markdown",
   "metadata": {},
   "source": [
    "First, let's create and visualise some imbalanced data. This way of building an imbalanced class is based on an example given in the _imbalanced-learn_ packages documentation (http://contrib.scikit-learn.org/imbalanced-learn/). Here the data has two classes, with the minority class appearing 5% of the time."
   ]
  },
  {
   "cell_type": "code",
   "execution_count": 2,
   "metadata": {},
   "outputs": [
    {
     "data": {
      "image/png": "[encoded data removed]",
      "text/plain": [
       "<matplotlib.figure.Figure at 0x7fb1b814b6d0>"
      ]
     },
     "metadata": {},
     "output_type": "display_data"
    }
   ],
   "source": [
    "# Based on the imbalance_learn package examples\n",
    "X, y = make_moons(n_samples=400, shuffle=True, noise=0.3, random_state=40)\n",
    "X_, y_ = make_imbalance(X, y, ratio=0.15, min_c_=1, random_state=40)\n",
    "\n",
    "\n",
    "plt.scatter(X_[y_ == 0, 0], X_[y_ == 0, 1], alpha=0.5)\n",
    "plt.scatter(X_[y_ == 1, 0], X_[y_ == 1, 1], alpha=0.5)\n",
    "plt.show()"
   ]
  },
  {
   "cell_type": "markdown",
   "metadata": {},
   "source": [
    "Then a simple SVM classifier can be fit to it."
   ]
  },
  {
   "cell_type": "code",
   "execution_count": 3,
   "metadata": {},
   "outputs": [
    {
     "name": "stdout",
     "output_type": "stream",
     "text": [
      "             precision    recall  f1-score   support\n",
      "\n",
      "          0       0.93      1.00      0.96        66\n",
      "          1       1.00      0.50      0.67        10\n",
      "\n",
      "avg / total       0.94      0.93      0.92        76\n",
      "\n"
     ]
    }
   ],
   "source": [
    "# Train/test split\n",
    "X_train, X_test, y_train, y_test = train_test_split(X_, y_, test_size=0.33, stratify=y_, random_state=40 )\n",
    "\n",
    "# Fit svm model\n",
    "model = SVC(random_state=40, probability=True)\n",
    "model.fit(X_train, y_train)\n",
    "y_predict = model.predict(X_test)\n",
    "\n",
    "print classification_report(y_test, y_predict)"
   ]
  },
  {
   "cell_type": "markdown",
   "metadata": {},
   "source": [
    "This classification report shows that whilst the model is good at accurately predicting the majority class bus it is not good at predicting the minority class. This also shows that if all classes are important to you, looking at metrics such as the f1-score is more important than a pure accuracy score."
   ]
  },
  {
   "cell_type": "markdown",
   "metadata": {},
   "source": [
    "## Measuring efficacy\n",
    "\n",
    "As discussed at the start, the assumption behind the support vector machine above is that is needs to maximise accuracy which can be a valid goal.\n",
    "\n",
    "If we do consider accuracy (the proportion of predictions that are correct) we get:"
   ]
  },
  {
   "cell_type": "code",
   "execution_count": 4,
   "metadata": {},
   "outputs": [
    {
     "name": "stdout",
     "output_type": "stream",
     "text": [
      "0.934210526316\n"
     ]
    }
   ],
   "source": [
    "print accuracy_score(y_test, model.predict(X_test))"
   ]
  },
  {
   "cell_type": "markdown",
   "metadata": {},
   "source": [
    "The model is doing well but the classifcation report above shows that predictions for the minority class are far from perfect. Looking at precision and recall gives more insight into the data, and f1-score takes more notice of performance on the different classes (as does area under the ROC curve). If the different classes are equally  important to you, f1-score would be worth using to evaluate the model.\n",
    "\n",
    "If f1-score is more ienformativ why doesn't the model minimise it during fitting? The answer is that using f1-score would not result in a convex cost function, and optimisers for convex problems are very well developed (and performant) so most models only implement convex cost functions."
   ]
  },
  {
   "cell_type": "markdown",
   "metadata": {},
   "source": [
    "## Taxonomies\n",
    "\n",
    "Approaches to tackling imbalances can be catagorised in many different ways. Typically they are catagorised in terms of what you do practically, and for example in the introduction of the paper by Cruz _et al._ (_Tackling Class Imbalance with Ranking_)<sup>[2]</sup> they define the following four catagories:\n",
    "\n",
    ">**1. Pre-processing** step  changing  the  class  priors  by  under-sampling the majority class and/or creating new synthetic examples of the minority class, or even changing class priors by changing class labels themselves (e.g. MetaCost);\n",
    "\n",
    ">**2. Training with costs** instead of maximizing accuracy, the training algorithm maximizes weighted accuracy, so that the cost of misclassifying a class is inversely proportional to its frequency;\n",
    "\n",
    ">**3. Post-processing** by  tweaking  the  decision  boundary  by such  measures  as  changing  a  threshold  after  which  one\n",
    "class is selected, sometimes with the aid of a ROC curve;\n",
    "\n",
    ">**4. Ensembles** by which each model within the ensemble is trained  with  balanced  subsets  of  the  data,  coupled with the previous preprocessing techniques.\n",
    "\n",
    "The paper itself is focused on re-casting the problem as a ranking problem, and also mentions in passing that in some circumstances you can re-cast the problem to be that of anomaly detection.\n",
    "\n",
    "Ling _et al._ (_Cost Sensitive Learning and the Class Imbalance Problem_)<sup>[3]</sup> provide a different breakdown based more on a theoretical look at class imbalance which shows that there are sounds reasons to tweak probabily thresholds and other techniques (such as MetaCost) are also based around probability thresholds. \n",
    "\n",
    "[2]:http://vcmi.inescporto.pt/reproducible_research/ijcnn2016/ClassImbalance/imbalance.pdf\n",
    "[3]:http://www.csd.uwo.ca/faculty/ling/papers/cost_sensitive.pdf"
   ]
  },
  {
   "cell_type": "markdown",
   "metadata": {},
   "source": [
    "## Cost of classification\n",
    "\n",
    "At the heart of a lot of approaches to dealing with imbalanced classes is the idea of the cost of (mis)classification (Ling _et al._ <sup>[3]</sup> provide a good discussion as does Elkan<sup>[4]</sup>). The idea is that classifing a sample (a particular data point) as being in class 0 when it really is class 1 might have a different impact (have a different _cost_) than classifing sample $x_1$ as class 1 when it really is class 0. The cost of classifying a sample as class $i$ when it actually belongs to class $j$ is written as:\n",
    "$$c_{ij}$$\n",
    "Interestingly, for the multinomial case, this cost can vary depending on what incorrect class is suggested (not all misclassifications are equal). Also, you still specify \"costs\" for correct classifications ($c_{ii}$) though these can be thought of as benefits.\n",
    "\n",
    "Following the notation used by Ling _et al._, the expected cost ($R$) of classifying sample $x$ as class $i$ can be written as:\n",
    "\n",
    "$$ R\\left( i \\mid x\\right) = \\sum_{j} P\\left( j \\mid x\\right) c_{ij} $$\n",
    "where $P\\left( j \\mid x\\right)$ is the probability that $x$ belongs to class $j$. (Note, the cost/benefit of correct classification, $c_{ii}$, will often be zero.) The principle behing a lot of techniques is to minimise this expected cost.\n",
    "\n",
    "Many techniques for dealing with imbalanced data are based upon these ideas. Post-processing results via the use of thresholds is probably the most direct application of this idea, followed by training with costs. These two approaches are quick to apply so are demonstrated below rather than in their own notebooks.\n",
    "\n",
    "[3]:http://www.csd.uwo.ca/faculty/ling/papers/cost_sensitive.pdf\n",
    "[4]:https://pdfs.semanticscholar.org/2402/9028c1b280c7e62491999824853212ae148c.pdf"
   ]
  },
  {
   "cell_type": "markdown",
   "metadata": {},
   "source": [
    "## Post-processing results\n"
   ]
  },
  {
   "cell_type": "markdown",
   "metadata": {},
   "source": [
    "The idea of post-processing the results is that instead of balancing the input data or tweaking the model to account for the imbalances you instead apply a processing step to the outputs of the model.\n",
    "\n",
    "Most classification models output the probability that a given data point belongs to each class. A data point is predicted to belong the most probable class. For two class problems here is only really one indepentent probability (since the probabilites sum to one), so instead this process can be thought of as assigning a data point to the minority class if the probability of belonging to it is greater than a threshold value, which by default is taken to be 0.5 (the logical value) but for imbalanced data is often taken to be an additional hyperparameter. Is this approach justified?\n",
    "\n",
    "Yes. If we think of the problem as one of cost sensitive classification we should be assigning the data point to the class that produces the lowest cost of classification, rather than the most probable class.\n",
    "\n",
    "For the two class system you would choose class 1 if:\n",
    "\n",
    "$$ R\\left( 1 \\mid x\\right) < R\\left( 0 \\mid x\\right) $$\n",
    "\n",
    "which can be written as:\n",
    "\n",
    "$$ P\\left( 1 \\mid x\\right) > \\frac{c_{10}}{c_{10} + c_{01}} $$\n",
    "\n",
    "In effect minimising the expected cost of classification can be thought of as applying a different probability threshold.\n",
    "\n",
    "For the example considered here, if we care equally about the two classes then the threshold would be:"
   ]
  },
  {
   "cell_type": "code",
   "execution_count": 8,
   "metadata": {},
   "outputs": [
    {
     "data": {
      "text/plain": [
       "0.13043478260869565"
      ]
     },
     "execution_count": 8,
     "metadata": {},
     "output_type": "execute_result"
    }
   ],
   "source": [
    "c01_c10 = (y_==0).sum() / (y_==1).sum()\n",
    "\n",
    "threshold = 1 / (1 + c01_c10)\n",
    "\n",
    "threshold"
   ]
  },
  {
   "cell_type": "code",
   "execution_count": 9,
   "metadata": {},
   "outputs": [
    {
     "name": "stdout",
     "output_type": "stream",
     "text": [
      "             precision    recall  f1-score   support\n",
      "\n",
      "          0       0.97      0.95      0.96        66\n",
      "          1       0.73      0.80      0.76        10\n",
      "\n",
      "avg / total       0.94      0.93      0.94        76\n",
      "\n"
     ]
    }
   ],
   "source": [
    "def make_prediction(data, model, threshold):\n",
    "    probs = model.predict_proba(data)\n",
    "    return [1 if prob[1] > threshold else 0 for prob in probs  ]\n",
    "\n",
    "y_predict = make_prediction(X_test, model, threshold)\n",
    "print classification_report(y_test, y_predict)"
   ]
  },
  {
   "cell_type": "markdown",
   "metadata": {},
   "source": [
    "This has led to an improvement, but the model is still worse on the minority class.\n",
    "\n",
    "This has shown that ddjusting the probability threshold does have a solid theoretical basis, though in practice this is often tuned as a hyperparameter rather than dervived as above. The assumption being made is that the trained model is producing accurate probabilities, _i.e._ information about the minority class is correctly being captured. You can imagine scenarios where the model ignores the information from the minority class when training so that the output probabilities are not accurate enough."
   ]
  },
  {
   "cell_type": "markdown",
   "metadata": {},
   "source": [
    "## Training with costs\n",
    "\n",
    "Many algorithms allow you to specify class weights. These are used internally, alogorithms are alterted so that larger penalties are attached to classes with higher weights. The algorithm is then taking the costs of classification into account when fitting the data.\n",
    "\n",
    "For example with the SVM from before we just make a very simple change:"
   ]
  },
  {
   "cell_type": "code",
   "execution_count": 10,
   "metadata": {},
   "outputs": [
    {
     "name": "stdout",
     "output_type": "stream",
     "text": [
      "             precision    recall  f1-score   support\n",
      "\n",
      "          0       0.97      0.95      0.96        66\n",
      "          1       0.73      0.80      0.76        10\n",
      "\n",
      "avg / total       0.94      0.93      0.94        76\n",
      "\n"
     ]
    }
   ],
   "source": [
    "# Fit svm model\n",
    "model = SVC(random_state=40, probability=True, class_weight='balanced')\n",
    "model.fit(X_train, y_train)\n",
    "y_predict = model.predict(X_test)\n",
    "\n",
    "print classification_report(y_test, y_predict)"
   ]
  },
  {
   "cell_type": "markdown",
   "metadata": {},
   "source": [
    "and get improved results. Whilst (atleast in _sklearn_) the syntax for specifying weights is common across alot of different techniques, internally the weights are used in different ways. One way in which decisions trees use weights was outlined in Ting's paper _An Instance-Weight Method to Induce Cost-Sensitive Trees_<sup>5</sup> where the criteria for judging where to split the tree is altered to give more weight to the classes with larger weight.\n",
    "\n",
    "[5]:http://sci2s.ugr.es/keel/pdf/algorithm/articulo/2002%20-%20Ting%20-%20An%20instance-weighting%20method%20to%20induce%20cost-sensitive%20trees%20-%20IEEETKDE.pdf"
   ]
  },
  {
   "cell_type": "code",
   "execution_count": null,
   "metadata": {},
   "outputs": [],
   "source": []
  }
 ],
 "metadata": {
  "kernelspec": {
   "display_name": "Python 2",
   "language": "python",
   "name": "python2"
  },
  "language_info": {
   "codemirror_mode": {
    "name": "ipython",
    "version": 2
   },
   "file_extension": ".py",
   "mimetype": "text/x-python",
   "name": "python",
   "nbconvert_exporter": "python",
   "pygments_lexer": "ipython2",
   "version": "2.7.14"
  }
 },
 "nbformat": 4,
 "nbformat_minor": 2
}
